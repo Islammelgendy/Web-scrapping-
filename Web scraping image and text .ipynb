{
 "cells": [
  {
   "cell_type": "markdown",
   "metadata": {},
   "source": [
    "# Perhaps the easiest way to show how the HTTP protocol works is to write a very simple Python program that makes a connection to a web server and follows the rules of the HTTP protocol to request a document and display what the server sends back.\n"
   ]
  },
  {
   "cell_type": "code",
   "execution_count": 4,
   "metadata": {},
   "outputs": [
    {
     "name": "stdout",
     "output_type": "stream",
     "text": [
      "HTTP/1.1 200 OK\r\n",
      "Date: Tue, 23 Jun 2020 03:09:17 GMT\r\n",
      "Server: Apache/2.4.18 (Ubuntu)\r\n",
      "Last-Modified: Sat, 13 May 2017 11:22:22 GMT\r\n",
      "ETag: \"a7-54f6609245537\"\r\n",
      "Accept-Ranges: bytes\r\n",
      "Content-Length: 167\r\n",
      "Cache-Control: max-age=0, no-cache, no-store, must-revalidate\r\n",
      "Pragma: no-cache\r\n",
      "Expires: Wed, 11 Jan 1984 05:00:00 GMT\r\n",
      "Connection: close\r\n",
      "Content-Type: text/plain\r\n",
      "\r\n",
      "But soft what light through yonder window breaks\n",
      "It is the east and Juliet is the sun\n",
      "Arise fair sun and kill the envious moon\n",
      "Who is already s\n",
      "ick and pale with grief\n",
      "\n"
     ]
    }
   ],
   "source": [
    "import socket\n",
    "mysock = socket.socket(socket.AF_INET, socket.SOCK_STREAM) \n",
    "mysock.connect(('data.pr4e.org', 80)) \n",
    "cmd = 'GET http://data.pr4e.org/romeo.txt HTTP/1.0\\r\\n\\r\\n'.encode() \n",
    "mysock.send(cmd)\n",
    "while True: \n",
    "    data = mysock.recv(512) \n",
    "    if (len(data) < 1): \n",
    "        break \n",
    "    print(data.decode()) \n",
    "mysock.close()\n"
   ]
  },
  {
   "cell_type": "markdown",
   "metadata": {},
   "source": [
    "# Retrieving an image over HTTP"
   ]
  },
  {
   "cell_type": "code",
   "execution_count": 5,
   "metadata": {},
   "outputs": [
    {
     "name": "stdout",
     "output_type": "stream",
     "text": [
      "5120 5120\n",
      "5120 10240\n",
      "4080 14320\n",
      "5120 19440\n",
      "608 20048\n",
      "5120 25168\n",
      "608 25776\n",
      "5120 30896\n",
      "608 31504\n",
      "1432 32936\n",
      "5120 38056\n",
      "608 38664\n",
      "5120 43784\n",
      "608 44392\n",
      "5120 49512\n",
      "608 50120\n",
      "5120 55240\n",
      "608 55848\n",
      "5120 60968\n",
      "608 61576\n",
      "5120 66696\n",
      "608 67304\n",
      "5120 72424\n",
      "608 73032\n",
      "5120 78152\n",
      "608 78760\n",
      "5120 83880\n",
      "608 84488\n",
      "5120 89608\n",
      "608 90216\n",
      "5120 95336\n",
      "608 95944\n",
      "5120 101064\n",
      "608 101672\n",
      "5120 106792\n",
      "608 107400\n",
      "5120 112520\n",
      "608 113128\n",
      "5120 118248\n",
      "608 118856\n",
      "5120 123976\n",
      "608 124584\n",
      "5120 129704\n",
      "2040 131744\n",
      "5120 136864\n",
      "608 137472\n",
      "5120 142592\n",
      "608 143200\n",
      "5120 148320\n",
      "608 148928\n",
      "5120 154048\n",
      "608 154656\n",
      "5120 159776\n",
      "608 160384\n",
      "5120 165504\n",
      "608 166112\n",
      "5120 171232\n",
      "608 171840\n",
      "5120 176960\n",
      "608 177568\n",
      "5120 182688\n",
      "608 183296\n",
      "5120 188416\n",
      "608 189024\n",
      "5120 194144\n",
      "608 194752\n",
      "5120 199872\n",
      "608 200480\n",
      "5120 205600\n",
      "608 206208\n",
      "5120 211328\n",
      "608 211936\n",
      "5120 217056\n",
      "608 217664\n",
      "5120 222784\n",
      "608 223392\n",
      "5120 228512\n",
      "608 229120\n",
      "1488 230608\n",
      "Header length 394\n",
      "HTTP/1.1 200 OK\n",
      "Date: Tue, 23 Jun 2020 03:11:19 GMT\n",
      "Server: Apache/2.4.18 (Ubuntu)\n",
      "Last-Modified: Mon, 15 May 2017 12:27:40 GMT\n",
      "ETag: \"38342-54f8f2e5b6277\"\n",
      "Accept-Ranges: bytes\n",
      "Content-Length: 230210\n",
      "Vary: Accept-Encoding\n",
      "Cache-Control: max-age=0, no-cache, no-store, must-revalidate\n",
      "Pragma: no-cache\n",
      "Expires: Wed, 11 Jan 1984 05:00:00 GMT\n",
      "Connection: close\n",
      "Content-Type: image/jpeg\n"
     ]
    },
    {
     "data": {
      "text/plain": [
       "' you can now display the image in any image viewer.\\n '"
      ]
     },
     "execution_count": 5,
     "metadata": {},
     "output_type": "execute_result"
    }
   ],
   "source": [
    "import socket\n",
    "import time\n",
    "\n",
    "HOST = 'data.pr4e.org'\n",
    "PORT = 80\n",
    "mysock = socket.socket(socket.AF_INET, socket.SOCK_STREAM)\n",
    "mysock.connect((HOST, PORT))\n",
    "mysock.sendall(b'GET http://data.pr4e.org/cover3.jpg HTTP/1.0\\r\\n\\r\\n')\n",
    "count = 0\n",
    "picture = b\"\"\n",
    "\n",
    "while True:\n",
    "    data = mysock.recv(5120)\n",
    "    if len(data) < 1: break\n",
    "    #time.sleep(0.25)\n",
    "    count = count + len(data)\n",
    "    print(len(data), count)\n",
    "    picture = picture + data\n",
    "\n",
    "mysock.close()\n",
    "\n",
    "# Look for the end of the header (2 CRLF)\n",
    "pos = picture.find(b\"\\r\\n\\r\\n\")\n",
    "print('Header length', pos)\n",
    "print(picture[:pos].decode())\n",
    "\n",
    "# Skip past the header and save the picture data\n",
    "picture = picture[pos+4:]\n",
    "fhand = open(\"stuff.jpg\", \"wb\")\n",
    "fhand.write(picture)\n",
    "fhand.close()\n",
    "''' you can now display the image in any image viewer.\n",
    " '''"
   ]
  }
 ],
 "metadata": {
  "kernelspec": {
   "display_name": "Python 3",
   "language": "python",
   "name": "python3"
  },
  "language_info": {
   "codemirror_mode": {
    "name": "ipython",
    "version": 3
   },
   "file_extension": ".py",
   "mimetype": "text/x-python",
   "name": "python",
   "nbconvert_exporter": "python",
   "pygments_lexer": "ipython3",
   "version": "3.7.3"
  }
 },
 "nbformat": 4,
 "nbformat_minor": 2
}
